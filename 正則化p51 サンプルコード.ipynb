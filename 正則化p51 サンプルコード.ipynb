{
 "cells": [
  {
   "cell_type": "code",
   "execution_count": 1,
   "metadata": {},
   "outputs": [],
   "source": [
    "import numpy as np"
   ]
  },
  {
   "cell_type": "code",
   "execution_count": 2,
   "metadata": {},
   "outputs": [],
   "source": [
    "from sklearn.preprocessing import PolynomialFeatures"
   ]
  },
  {
   "cell_type": "code",
   "execution_count": 4,
   "metadata": {},
   "outputs": [],
   "source": [
    "from sklearn.linear_model import Ridge"
   ]
  },
  {
   "cell_type": "code",
   "execution_count": 5,
   "metadata": {},
   "outputs": [],
   "source": [
    "from sklearn.metrics import mean_squared_error"
   ]
  },
  {
   "cell_type": "code",
   "execution_count": 6,
   "metadata": {},
   "outputs": [],
   "source": [
    "train_size = 20\n",
    "test_size = 12\n",
    "train_x = np.random.uniform(low=0, high=1.2, size=train_size)\n",
    "test_x = np.random.uniform(low=0.1, high=1.3, size=test_size)\n",
    "train_y = np.sin(train_x*2*np.pi)+np.random.normal(0,0.2,train_size)\n",
    "test_y = np.sin(test_x*2*np.pi)+np.random.normal(0,0.2,test_size)"
   ]
  },
  {
   "cell_type": "code",
   "execution_count": 7,
   "metadata": {},
   "outputs": [],
   "source": [
    "poly = PolynomialFeatures(6)\n",
    "train_poly_x = poly.fit_transform(train_x.reshape(train_size,1))\n",
    "test_poly_x = poly.fit_transform(test_x.reshape(test_size,1))                                  "
   ]
  },
  {
   "cell_type": "code",
   "execution_count": 9,
   "metadata": {},
   "outputs": [],
   "source": [
    "model = Ridge(alpha=1.0)\n",
    "model.fit(train_poly_x,train_y)\n",
    "train_pred_y = model.predict(train_poly_x)\n",
    "test_pred_y = model.predict(test_poly_x)"
   ]
  },
  {
   "cell_type": "code",
   "execution_count": 10,
   "metadata": {},
   "outputs": [
    {
     "name": "stdout",
     "output_type": "stream",
     "text": [
      "0.2847312417441604\n",
      "0.3209074956044381\n"
     ]
    }
   ],
   "source": [
    "print(mean_squared_error(train_pred_y,train_y))\n",
    "print(mean_squared_error(test_pred_y,test_y))"
   ]
  },
  {
   "cell_type": "code",
   "execution_count": null,
   "metadata": {},
   "outputs": [],
   "source": []
  }
 ],
 "metadata": {
  "kernelspec": {
   "display_name": "Python 3",
   "language": "python",
   "name": "python3"
  },
  "language_info": {
   "codemirror_mode": {
    "name": "ipython",
    "version": 3
   },
   "file_extension": ".py",
   "mimetype": "text/x-python",
   "name": "python",
   "nbconvert_exporter": "python",
   "pygments_lexer": "ipython3",
   "version": "3.7.6"
  }
 },
 "nbformat": 4,
 "nbformat_minor": 4
}
