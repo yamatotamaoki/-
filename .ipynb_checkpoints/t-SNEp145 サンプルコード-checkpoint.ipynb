{
 "cells": [
  {
   "cell_type": "code",
   "execution_count": 5,
   "metadata": {},
   "outputs": [],
   "source": [
    "from sklearn.manifold import TSNE\n",
    "from sklearn.datasets import load_digits"
   ]
  },
  {
   "cell_type": "code",
   "execution_count": 6,
   "metadata": {},
   "outputs": [],
   "source": [
    "data = load_digits()\n",
    "n_components = 2\n",
    "model = TSNE(n_components = n_components)"
   ]
  },
  {
   "cell_type": "code",
   "execution_count": 7,
   "metadata": {},
   "outputs": [
    {
     "name": "stdout",
     "output_type": "stream",
     "text": [
      "[[-10.0401535  60.60981  ]\n",
      " [ 23.800068    8.051907 ]\n",
      " [ 21.083233  -24.969389 ]\n",
      " ...\n",
      " [ 12.485944  -11.463084 ]\n",
      " [ -9.986165  -10.701528 ]\n",
      " [ 10.483118  -18.63491  ]]\n"
     ]
    }
   ],
   "source": [
    "print(model.fit_transform(data.data))"
   ]
  },
  {
   "cell_type": "code",
   "execution_count": null,
   "metadata": {},
   "outputs": [],
   "source": []
  }
 ],
 "metadata": {
  "kernelspec": {
   "display_name": "Python 3",
   "language": "python",
   "name": "python3"
  },
  "language_info": {
   "codemirror_mode": {
    "name": "ipython",
    "version": 3
   },
   "file_extension": ".py",
   "mimetype": "text/x-python",
   "name": "python",
   "nbconvert_exporter": "python",
   "pygments_lexer": "ipython3",
   "version": "3.7.6"
  }
 },
 "nbformat": 4,
 "nbformat_minor": 4
}
